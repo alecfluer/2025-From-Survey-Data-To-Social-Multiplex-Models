{
 "cells": [
  {
   "cell_type": "markdown",
   "id": "a132e870",
   "metadata": {},
   "source": [
    "## **Simulate** Synthetic"
   ]
  },
  {
   "cell_type": "markdown",
   "id": "68174f7a",
   "metadata": {},
   "source": [
    "**Required Imports**"
   ]
  },
  {
   "cell_type": "code",
   "execution_count": 1,
   "id": "2d126027",
   "metadata": {},
   "outputs": [],
   "source": [
    "import multiprocessing as mp\n",
    "import sys\n",
    "import time\n",
    "\n",
    "import numpy as np\n",
    "import pandas as pd\n",
    "import sdcdp\n",
    "\n",
    "sys.path.append('../../')\n",
    "import src"
   ]
  },
  {
   "cell_type": "markdown",
   "id": "b838b22a",
   "metadata": {},
   "source": [
    "**Setup: Multiprocessing**"
   ]
  },
  {
   "cell_type": "code",
   "execution_count": 2,
   "id": "8ff65cd1",
   "metadata": {},
   "outputs": [],
   "source": [
    "number_of_samples = 100\n",
    "number_of_mp_cpus = 200"
   ]
  },
  {
   "cell_type": "code",
   "execution_count": null,
   "id": "0f37221d",
   "metadata": {},
   "outputs": [],
   "source": [
    "mp_worker_for_sda_prob = src.workers.worker_for_sda_prob\n",
    "mp_worker_for_deg_seqs = src.workers.worker_for_deg_seqs\n",
    "mp_worker_for_networks = src.workers.worker_for_networks\n",
    "\n",
    "mp_params_for_sda_prob = []\n",
    "mp_params_for_deg_seqs = []\n",
    "mp_params_for_networks = []\n",
    "\n",
    "unique_id = -1\n",
    "metadata = []\n",
    "locations = []"
   ]
  },
  {
   "cell_type": "markdown",
   "id": "231360c9",
   "metadata": {},
   "source": [
    "**Setup: Compare Models**"
   ]
  },
  {
   "cell_type": "code",
   "execution_count": null,
   "id": "764e8bf0",
   "metadata": {},
   "outputs": [],
   "source": [
    "compare_models = {}\n",
    "compare_models[\"CMS\"] = src.models.configuration_undirected\n",
    "compare_models[\"SDC\"] = src.models.sdc_undirected\n",
    "compare_models[\"SDC-DP\"] = src.models.sdcdp_undirected"
   ]
  },
  {
   "cell_type": "markdown",
   "id": "522c419d",
   "metadata": {},
   "source": [
    "**Setup: Compute Metrics**"
   ]
  },
  {
   "cell_type": "code",
   "execution_count": 6,
   "id": "3bbb3b1c",
   "metadata": {},
   "outputs": [],
   "source": [
    "compute_metrics = src.workers.metrics_undirected"
   ]
  },
  {
   "cell_type": "markdown",
   "id": "dc0f4287",
   "metadata": {},
   "source": [
    "**Setup: Synthetic Parameters**"
   ]
  },
  {
   "cell_type": "code",
   "execution_count": 10,
   "id": "e146ec95",
   "metadata": {},
   "outputs": [],
   "source": [
    "network_names = [\"Network 1\", \"Network 2\"]\n",
    "feature_names = [\"Cartesian\"]\n",
    "\n",
    "net_size_params = 500 * np.arange(1, 16, 1)\n",
    "\n",
    "char_dist_params = [0.10, 0.20, 0.40, 0.80, 1.60]\n",
    "homophily_params = [2, 4, 8, 16]\n",
    "\n",
    "def euclidean_distance(x, y):\n",
    "    return np.linalg.norm(x - y)\n",
    "\n",
    "net1_deg_seq_params = [(5, 50)]\n",
    "net2_deg_seq_params = [(10, 100)]\n",
    "deg_seq_corr_params = [0.00, 0.25, 0.50, 0.75, 1.00]"
   ]
  },
  {
   "cell_type": "markdown",
   "id": "ddbe9ff0",
   "metadata": {},
   "source": [
    "**Multiprocessing: Initialize**"
   ]
  },
  {
   "cell_type": "code",
   "execution_count": null,
   "id": "c95469a5",
   "metadata": {},
   "outputs": [],
   "source": [
    "print(\"⏳ [Stage] Generating parameters for multiprocessing SDA probabilities and degree sequences...\", flush=True)\n",
    "t = time.time()"
   ]
  },
  {
   "cell_type": "code",
   "execution_count": null,
   "id": "45733627",
   "metadata": {},
   "outputs": [],
   "source": [
    "MultiplexSDA = sdcdp.sda.MultiplexSDA()\n",
    "MultiplexSDA.add_networks_from(networks=network_names)\n",
    "MultiplexSDA.add_features_from(features=feature_names)\n",
    "\n",
    "for net_size in net_size_params:\n",
    "\n",
    "    loc = src.data.sample_synthetic_locations(\n",
    "        size=net_size,\n",
    "        uniform_proportion=0.4,\n",
    "        cluster_proportions=[0.04, 0.08, 0.16, 0.32],\n",
    "        cluster_spreads=[0.02, 0.02, 0.04, 0.04],\n",
    "        square_size=1/np.sqrt(2),\n",
    "        margin=0.05\n",
    "    )\n",
    "\n",
    "    locations.append(loc)\n",
    "    MultiplexSDA.clear_feature_params_from(features=feature_names)\n",
    "    MultiplexSDA.assign_feature_params(feature=\"Cartesian\", locations=loc, dist_func=euclidean_distance)\n",
    "    \n",
    "    for char_dist in char_dist_params:\n",
    "        for homophily in homophily_params:\n",
    "\n",
    "            MultiplexSDA.assign_network_params(network=\"Network 1\", feature=\"Cartesian\", char_dist=char_dist, homophily=homophily, weight=1)\n",
    "            MultiplexSDA.assign_network_params(network=\"Network 2\", feature=\"Cartesian\", char_dist=char_dist, homophily=homophily, weight=1)\n",
    "            \n",
    "            networks_dataframe = MultiplexSDA.networks_dataframe.copy()\n",
    "            features_dataframe = MultiplexSDA.features_dataframe.copy()\n",
    "\n",
    "            mp_params_for_sda_prob.append({\n",
    "                \"sda_prob_params\": (net_size, char_dist, homophily),\n",
    "                \"networks_dataframe\": networks_dataframe,\n",
    "                \"features_dataframe\": features_dataframe\n",
    "            })\n",
    "\n",
    "            for net1_deg_seq_param in net1_deg_seq_params:\n",
    "                for net2_deg_seq_param in net2_deg_seq_params:\n",
    "                    for deg_seq_corr in deg_seq_corr_params:\n",
    "\n",
    "                        m1, v1 = net1_deg_seq_param\n",
    "                        m2, v2 = net2_deg_seq_param\n",
    "                        \n",
    "                        unique_id += 1\n",
    "                        metadata.append({\n",
    "                            \"unique_id\": unique_id,\n",
    "                            \"net1_name\": network_names[0],\n",
    "                            \"net2_name\": network_names[1],\n",
    "                            \"feat_name\": feature_names[0],\n",
    "                            \"net_size\": net_size,\n",
    "                            \"char_dist\": char_dist,\n",
    "                            \"homophily\": homophily,\n",
    "                            \"net1_deg_seq_mean\": m1,\n",
    "                            \"net1_deg_seq_var\": v1,\n",
    "                            \"net2_deg_seq_mean\": m2,\n",
    "                            \"net2_deg_seq_var\": v2,\n",
    "                            \"deg_seq_corr\": deg_seq_corr\n",
    "                        })\n",
    "                        \n",
    "                        for sample_id in range(number_of_samples):\n",
    "                            mp_params_for_deg_seqs.append({\n",
    "                                \"unique_id\": unique_id,\n",
    "                                \"sample_id\": sample_id,\n",
    "                                \"network_names\": network_names,\n",
    "                                \"deg_seqs_params\": (net_size, m1, v1, m2, v2, deg_seq_corr)\n",
    "                            })"
   ]
  },
  {
   "cell_type": "code",
   "execution_count": null,
   "id": "b6603a29",
   "metadata": {},
   "outputs": [],
   "source": [
    "print(f\"✅ Completed in {time.time() - t:.2f} seconds.\\n\", flush=True)"
   ]
  },
  {
   "cell_type": "markdown",
   "id": "a9c48d8e",
   "metadata": {},
   "source": [
    "**Multiprocessing: SDA Connection Probabilities**"
   ]
  },
  {
   "cell_type": "code",
   "execution_count": null,
   "id": "41b59737",
   "metadata": {},
   "outputs": [],
   "source": [
    "print(\"⏳ [Stage] Multiprocessing SDA probabilities...\", flush=True)\n",
    "t = time.time()"
   ]
  },
  {
   "cell_type": "code",
   "execution_count": null,
   "id": "d16a4147",
   "metadata": {},
   "outputs": [],
   "source": [
    "with mp.Pool(processes=number_of_mp_cpus) as pool:\n",
    "    results = pool.map(mp_worker_for_sda_prob, mp_params_for_sda_prob)"
   ]
  },
  {
   "cell_type": "code",
   "execution_count": null,
   "id": "30c8d3e9",
   "metadata": {},
   "outputs": [],
   "source": [
    "print(f\"✅ Completed in {time.time() - t:.2f} seconds.\\n\", flush=True)"
   ]
  },
  {
   "cell_type": "code",
   "execution_count": null,
   "id": "c2f7e30f",
   "metadata": {},
   "outputs": [],
   "source": [
    "print(\"⏳ [Stage] Consolidating SDA probabilities...\", flush=True)\n",
    "t = time.time()"
   ]
  },
  {
   "cell_type": "code",
   "execution_count": null,
   "id": "e1644549",
   "metadata": {},
   "outputs": [],
   "source": [
    "mp_results_for_sda_prob = {result[\"sda_prob_params\"]: result[\"probabilities\"] for result in results}"
   ]
  },
  {
   "cell_type": "code",
   "execution_count": null,
   "id": "33d1b052",
   "metadata": {},
   "outputs": [],
   "source": [
    "print(f\"✅ Completed in {time.time() - t:.2f} seconds.\\n\", flush=True)"
   ]
  },
  {
   "cell_type": "markdown",
   "id": "35cc56ef",
   "metadata": {},
   "source": [
    "**Multiprocessing: Degree Sequences**"
   ]
  },
  {
   "cell_type": "code",
   "execution_count": null,
   "id": "97b33bf6",
   "metadata": {},
   "outputs": [],
   "source": [
    "print(\"⏳ [Stage] Multiprocessing degree sequences...\", flush=True)\n",
    "t = time.time()"
   ]
  },
  {
   "cell_type": "code",
   "execution_count": null,
   "id": "4341de0d",
   "metadata": {},
   "outputs": [],
   "source": [
    "with mp.Pool(processes=number_of_mp_cpus) as pool:\n",
    "    results = pool.map(mp_worker_for_deg_seqs, mp_params_for_deg_seqs)"
   ]
  },
  {
   "cell_type": "code",
   "execution_count": null,
   "id": "03407b8e",
   "metadata": {},
   "outputs": [],
   "source": [
    "print(f\"✅ Completed in {time.time() - t:.2f} seconds.\\n\", flush=True)"
   ]
  },
  {
   "cell_type": "code",
   "execution_count": null,
   "id": "451fcb9e",
   "metadata": {},
   "outputs": [],
   "source": [
    "print(\"⏳ [Stage] Consolidating degree sequences...\", flush=True)\n",
    "t = time.time()"
   ]
  },
  {
   "cell_type": "code",
   "execution_count": null,
   "id": "4b1ba6ff",
   "metadata": {},
   "outputs": [],
   "source": [
    "mp_results_for_deg_seqs = {(result[\"unique_id\"], result[\"sample_id\"]): result[\"degree_sequences\"] for result in results}"
   ]
  },
  {
   "cell_type": "code",
   "execution_count": null,
   "id": "231e3388",
   "metadata": {},
   "outputs": [],
   "source": [
    "print(f\"✅ Completed in {time.time() - t:.2f} seconds.\\n\", flush=True)"
   ]
  },
  {
   "cell_type": "markdown",
   "id": "bccfbe7f",
   "metadata": {},
   "source": [
    "**Multiprocessing: Networks**"
   ]
  },
  {
   "cell_type": "code",
   "execution_count": null,
   "id": "be626d94",
   "metadata": {},
   "outputs": [],
   "source": [
    "print(\"⏳ [Stage] Generating parameters for multiprocessing networks...\", flush=True)\n",
    "t = time.time()"
   ]
  },
  {
   "cell_type": "code",
   "execution_count": null,
   "id": "c5581b99",
   "metadata": {},
   "outputs": [],
   "source": [
    "for meta in metadata:\n",
    "\n",
    "    unique_id = meta[\"unique_id\"]\n",
    "    net_size, char_dist, homophily = meta[\"net_size\"], meta[\"char_dist\"], meta[\"homophily\"]\n",
    "        \n",
    "    probabilities = mp_results_for_sda_prob[(net_size, char_dist, homophily)]\n",
    "\n",
    "    for sample_id in range(number_of_samples):\n",
    "        \n",
    "        degree_sequences = mp_results_for_deg_seqs[(unique_id, sample_id)]\n",
    "    \n",
    "        mp_params_for_networks.append({\n",
    "            \"unique_id\": unique_id,\n",
    "            \"sample_id\": sample_id,\n",
    "            \"network_names\": network_names,\n",
    "            \"probabilities\": probabilities,\n",
    "            \"degree_sequences\": degree_sequences,\n",
    "            \"compare_models\": compare_models,\n",
    "            \"compute_metrics\": compute_metrics\n",
    "        })"
   ]
  },
  {
   "cell_type": "code",
   "execution_count": null,
   "id": "efdb78bc",
   "metadata": {},
   "outputs": [],
   "source": [
    "print(f\"✅ Completed in {time.time() - t:.2f} seconds.\\n\", flush=True)"
   ]
  },
  {
   "cell_type": "code",
   "execution_count": null,
   "id": "31a89573",
   "metadata": {},
   "outputs": [],
   "source": [
    "print(\"⏳ [Stage] Multiprocessing networks...\", flush=True)\n",
    "t = time.time()"
   ]
  },
  {
   "cell_type": "code",
   "execution_count": null,
   "id": "4a08a42f",
   "metadata": {},
   "outputs": [],
   "source": [
    "start_time = time.time()\n",
    "\n",
    "with mp.Pool(processes=number_of_mp_cpus) as pool:\n",
    "    results = pool.map(mp_worker_for_networks, mp_params_for_networks)\n",
    "\n",
    "end_time = time.time()\n",
    "duration = end_time - start_time"
   ]
  },
  {
   "cell_type": "code",
   "execution_count": null,
   "id": "27f65ffd",
   "metadata": {},
   "outputs": [],
   "source": [
    "print(f\"✅ Completed in {time.time() - t:.2f} seconds.\\n\", flush=True)"
   ]
  },
  {
   "cell_type": "markdown",
   "id": "ee6430a7",
   "metadata": {},
   "source": [
    "**Complete: Convert to DataFrames and Save as Parquet Files**"
   ]
  },
  {
   "cell_type": "code",
   "execution_count": null,
   "id": "190bc5ac",
   "metadata": {},
   "outputs": [],
   "source": [
    "print(\"⏳ [Stage] Converting to DataFrames...\", flush=True)\n",
    "t = time.time()"
   ]
  },
  {
   "cell_type": "code",
   "execution_count": null,
   "id": "53186822",
   "metadata": {},
   "outputs": [],
   "source": [
    "results = [dictionary for sample in results for dictionary in sample]\n",
    "results = pd.DataFrame(results)\n",
    "results = results.sort_values(by=[\"unique_id\", \"sample_id\", \"model_id\"])\n",
    "results = results.reset_index(drop=True)\n",
    "\n",
    "metadata = pd.DataFrame(metadata)\n",
    "metrics = results.drop(columns=[col for col in results.columns if \"distributions\" in col])\n",
    "distributions = src.data.joint_distributions(dataframe=results)"
   ]
  },
  {
   "cell_type": "code",
   "execution_count": null,
   "id": "95ef5729",
   "metadata": {},
   "outputs": [],
   "source": [
    "print(f\"✅ Completed in {time.time() - t:.2f} seconds.\\n\", flush=True)"
   ]
  },
  {
   "cell_type": "code",
   "execution_count": null,
   "id": "4ef24d7f",
   "metadata": {},
   "outputs": [],
   "source": [
    "filepath = \"../../results/synthetic\"\n",
    "filename = f\"{time.strftime('%Y-%m-%d', time.localtime())}_synthetic_duration-{duration:.0f}_samples-{number_of_samples}\""
   ]
  },
  {
   "cell_type": "code",
   "execution_count": null,
   "id": "ba18a341",
   "metadata": {},
   "outputs": [],
   "source": [
    "print(\"⏳ [Stage] Saving files...\", flush=True)\n",
    "t = time.time()"
   ]
  },
  {
   "cell_type": "code",
   "execution_count": null,
   "id": "10f2ff59",
   "metadata": {},
   "outputs": [],
   "source": [
    "metadata.to_parquet(f\"{filepath}/{filename}_metadata.parquet\", compression=\"snappy\")\n",
    "metrics.to_parquet(f\"{filepath}/{filename}_metrics.parquet\", compression=\"snappy\")\n",
    "distributions.to_parquet(f\"{filepath}/{filename}_distributions.parquet\", compression=\"snappy\")\n",
    "\n",
    "locations = {f\"net_size_{len(loc)}\": loc for loc in locations}\n",
    "np.savez(f\"{filepath}/{filename}_locations.npz\", **locations)"
   ]
  },
  {
   "cell_type": "code",
   "execution_count": null,
   "id": "8c7284af",
   "metadata": {},
   "outputs": [],
   "source": [
    "print(f\"✅ Completed in {time.time() - t:.2f} seconds.\\n\", flush=True)"
   ]
  }
 ],
 "metadata": {
  "kernelspec": {
   "display_name": "Python 3",
   "language": "python",
   "name": "python3"
  },
  "language_info": {
   "codemirror_mode": {
    "name": "ipython",
    "version": 3
   },
   "file_extension": ".py",
   "mimetype": "text/x-python",
   "name": "python",
   "nbconvert_exporter": "python",
   "pygments_lexer": "ipython3",
   "version": "3.12.10"
  }
 },
 "nbformat": 4,
 "nbformat_minor": 5
}
