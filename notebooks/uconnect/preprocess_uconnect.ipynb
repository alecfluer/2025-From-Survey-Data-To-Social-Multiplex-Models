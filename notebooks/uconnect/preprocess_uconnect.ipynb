{
 "cells": [
  {
   "cell_type": "markdown",
   "id": "9f4f9724",
   "metadata": {},
   "source": [
    "## **Preprocess** uConnect"
   ]
  },
  {
   "cell_type": "markdown",
   "id": "4839ce9d",
   "metadata": {},
   "source": [
    "**Required Imports**"
   ]
  },
  {
   "cell_type": "code",
   "execution_count": null,
   "id": "d90af6ef",
   "metadata": {},
   "outputs": [],
   "source": [
    "import sys\n",
    "\n",
    "import geopandas as gpd\n",
    "import numpy as np\n",
    "import pandas as pd\n",
    "import shapely\n",
    "\n",
    "sys.path.append('../../')\n",
    "import src"
   ]
  },
  {
   "cell_type": "markdown",
   "id": "1ca043a7",
   "metadata": {},
   "source": [
    "**Degree Sequences**"
   ]
  },
  {
   "cell_type": "code",
   "execution_count": 3,
   "id": "1dbf597f",
   "metadata": {},
   "outputs": [],
   "source": [
    "mencommreg_numpars1 = pd.read_excel(\"../../data/uconnect/raw/UConnect MSM Tabulate Results.xlsx\", sheet_name=\"numpars1\", header=None)\n",
    "mencommreg_totalmen = pd.read_excel(\"../../data/uconnect/raw/UConnect MSM Tabulate Results.xlsx\", sheet_name=\"totalmen\", header=None)\n",
    "num_bmsm_numpars1 = pd.read_excel(\"../../data/uconnect/raw/UConnect Tabulate Results(1241).xlsx\", sheet_name=\"numpars1\", header=None)\n",
    "num_bmsm_totalmen = pd.read_excel(\"../../data/uconnect/raw/UConnect Tabulate Results(1241).xlsx\", sheet_name=\"totalmen\", header=None)"
   ]
  },
  {
   "cell_type": "code",
   "execution_count": 4,
   "id": "5ef714da",
   "metadata": {},
   "outputs": [],
   "source": [
    "dataframes = {\n",
    "    \"mencommreg_numpars1\": mencommreg_numpars1,\n",
    "    \"mencommreg_totalmen\": mencommreg_totalmen,\n",
    "    \"num_bmsm_numpars1\": num_bmsm_numpars1,\n",
    "    \"num_bmsm_totalmen\": num_bmsm_totalmen\n",
    "}\n",
    "\n",
    "degree_sequences_data = []\n",
    "for networks, dataframe in dataframes.items():\n",
    "    social, _, sexual = networks.rpartition(\"_\")\n",
    "    degree_sequences = src.data.reconstruct_degree_sequences(dataframe.iloc[1:-1, 1:-1])\n",
    "    degree_sequences_data.append(pd.DataFrame({\n",
    "        \"social_network\": [social, social],\n",
    "        \"sexual_network\": [sexual, sexual],\n",
    "        \"network\": [social, sexual],\n",
    "        \"degree_sequence\": [degree_sequences[0], degree_sequences[1]]\n",
    "    }))\n",
    "\n",
    "degree_sequences_data = pd.concat(degree_sequences_data, ignore_index=True)"
   ]
  },
  {
   "cell_type": "code",
   "execution_count": 5,
   "id": "0d903cb2",
   "metadata": {},
   "outputs": [],
   "source": [
    "degree_sequences_data.to_parquet(\"../../data/uconnect/processed/degree_sequences_uconnect.parquet\")"
   ]
  },
  {
   "cell_type": "markdown",
   "id": "e9788238",
   "metadata": {},
   "source": [
    "**Population Density**"
   ]
  },
  {
   "cell_type": "code",
   "execution_count": 6,
   "id": "1a6eea8e",
   "metadata": {},
   "outputs": [],
   "source": [
    "boundaries_data = pd.read_csv(\"../../data/uconnect/raw/CensusBlockTIGER2010_20250514.csv\")\n",
    "population_data = pd.read_csv(\"../../data/uconnect/raw/Population_by_2010_Census_Block_20250514.csv\")"
   ]
  },
  {
   "cell_type": "code",
   "execution_count": 7,
   "id": "aebf4b59",
   "metadata": {},
   "outputs": [],
   "source": [
    "boundaries_data = boundaries_data.rename(columns={\"the_geom\": \"geometry\", \"GEOID10\": \"census_block_id\"})\n",
    "population_data = population_data.rename(columns={\"TOTAL POPULATION\": \"population\", \"CENSUS BLOCK FULL\": \"census_block_id\"})\n",
    "\n",
    "boundaries_data = boundaries_data[[\"geometry\", \"census_block_id\"]]\n",
    "population_data = population_data[[\"population\", \"census_block_id\"]]\n",
    "\n",
    "population_density_data = boundaries_data.merge(population_data, on=\"census_block_id\")\n",
    "population_density_data = population_density_data.drop_duplicates(subset=[\"census_block_id\"])\n",
    "population_density_data = population_density_data[[\"census_block_id\", \"population\", \"geometry\"]]\n",
    "population_density_data[\"geometry\"] = population_density_data[\"geometry\"].apply(shapely.wkt.loads)\n",
    "population_density_data = gpd.GeoDataFrame(population_density_data, geometry=\"geometry\")\n",
    "population_density_data = population_density_data.set_crs(epsg=4326)"
   ]
  },
  {
   "cell_type": "code",
   "execution_count": 8,
   "id": "2a52c08a",
   "metadata": {},
   "outputs": [],
   "source": [
    "population_density_data.to_file(\"../../data/uconnect/processed/population_density_uconnect.geojson\", driver=\"GeoJSON\")"
   ]
  }
 ],
 "metadata": {
  "kernelspec": {
   "display_name": "Python 3",
   "language": "python",
   "name": "python3"
  },
  "language_info": {
   "codemirror_mode": {
    "name": "ipython",
    "version": 3
   },
   "file_extension": ".py",
   "mimetype": "text/x-python",
   "name": "python",
   "nbconvert_exporter": "python",
   "pygments_lexer": "ipython3",
   "version": "3.12.10"
  }
 },
 "nbformat": 4,
 "nbformat_minor": 5
}
